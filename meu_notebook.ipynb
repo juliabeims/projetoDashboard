{
 "cells": [
  {
   "cell_type": "code",
   "execution_count": 3,
   "metadata": {},
   "outputs": [
    {
     "data": {
      "text/html": [
       "<div>\n",
       "<style scoped>\n",
       "    .dataframe tbody tr th:only-of-type {\n",
       "        vertical-align: middle;\n",
       "    }\n",
       "\n",
       "    .dataframe tbody tr th {\n",
       "        vertical-align: top;\n",
       "    }\n",
       "\n",
       "    .dataframe thead th {\n",
       "        text-align: right;\n",
       "    }\n",
       "</style>\n",
       "<table border=\"1\" class=\"dataframe\">\n",
       "  <thead>\n",
       "    <tr style=\"text-align: right;\">\n",
       "      <th></th>\n",
       "      <th>_id</th>\n",
       "      <th>nome_suite</th>\n",
       "      <th>id_suite</th>\n",
       "      <th>tempo_inicio_teste</th>\n",
       "      <th>tempo_fim_teste</th>\n",
       "      <th>tempo_total_teste</th>\n",
       "      <th>resultado_teste</th>\n",
       "      <th>num_testes_executados</th>\n",
       "    </tr>\n",
       "  </thead>\n",
       "  <tbody>\n",
       "    <tr>\n",
       "      <th>0</th>\n",
       "      <td>657f2a9473c6a67bf10991e5</td>\n",
       "      <td>Login</td>\n",
       "      <td>1</td>\n",
       "      <td>2023-12-16 08:00:00</td>\n",
       "      <td>2023-12-16 08:15:00</td>\n",
       "      <td>15</td>\n",
       "      <td>passou</td>\n",
       "      <td>20</td>\n",
       "    </tr>\n",
       "    <tr>\n",
       "      <th>1</th>\n",
       "      <td>657f2a9473c6a67bf10991e6</td>\n",
       "      <td>Carrinho</td>\n",
       "      <td>2</td>\n",
       "      <td>2023-12-16 09:30:00</td>\n",
       "      <td>2023-12-16 09:45:00</td>\n",
       "      <td>15</td>\n",
       "      <td>passou</td>\n",
       "      <td>15</td>\n",
       "    </tr>\n",
       "    <tr>\n",
       "      <th>2</th>\n",
       "      <td>657f2a9473c6a67bf10991e7</td>\n",
       "      <td>Pagamento</td>\n",
       "      <td>3</td>\n",
       "      <td>2023-12-16 10:20:00</td>\n",
       "      <td>2023-12-16 11:00:00</td>\n",
       "      <td>40</td>\n",
       "      <td>falhou</td>\n",
       "      <td>35</td>\n",
       "    </tr>\n",
       "    <tr>\n",
       "      <th>3</th>\n",
       "      <td>657f2a9473c6a67bf10991e8</td>\n",
       "      <td>Cadastro</td>\n",
       "      <td>4</td>\n",
       "      <td>2023-12-16 11:30:00</td>\n",
       "      <td>2023-12-16 11:45:00</td>\n",
       "      <td>15</td>\n",
       "      <td>passou</td>\n",
       "      <td>25</td>\n",
       "    </tr>\n",
       "    <tr>\n",
       "      <th>4</th>\n",
       "      <td>657f2a9473c6a67bf10991e9</td>\n",
       "      <td>Pesquisa</td>\n",
       "      <td>5</td>\n",
       "      <td>2023-12-16 13:00:00</td>\n",
       "      <td>2023-12-16 13:25:00</td>\n",
       "      <td>25</td>\n",
       "      <td>passou</td>\n",
       "      <td>30</td>\n",
       "    </tr>\n",
       "    <tr>\n",
       "      <th>5</th>\n",
       "      <td>657f2a9473c6a67bf10991ea</td>\n",
       "      <td>Configurações</td>\n",
       "      <td>6</td>\n",
       "      <td>2023-12-16 14:00:00</td>\n",
       "      <td>2023-12-16 14:45:00</td>\n",
       "      <td>45</td>\n",
       "      <td>falhou</td>\n",
       "      <td>40</td>\n",
       "    </tr>\n",
       "    <tr>\n",
       "      <th>6</th>\n",
       "      <td>657f2a9473c6a67bf10991eb</td>\n",
       "      <td>Dashboard</td>\n",
       "      <td>7</td>\n",
       "      <td>2023-12-16 15:30:00</td>\n",
       "      <td>2023-12-16 15:45:00</td>\n",
       "      <td>15</td>\n",
       "      <td>passou</td>\n",
       "      <td>18</td>\n",
       "    </tr>\n",
       "    <tr>\n",
       "      <th>7</th>\n",
       "      <td>657f2a9473c6a67bf10991ec</td>\n",
       "      <td>Notificações</td>\n",
       "      <td>8</td>\n",
       "      <td>2023-12-16 16:00:00</td>\n",
       "      <td>2023-12-16 16:30:00</td>\n",
       "      <td>30</td>\n",
       "      <td>falhou</td>\n",
       "      <td>22</td>\n",
       "    </tr>\n",
       "    <tr>\n",
       "      <th>8</th>\n",
       "      <td>657f2a9473c6a67bf10991ed</td>\n",
       "      <td>Perfil</td>\n",
       "      <td>9</td>\n",
       "      <td>2023-12-16 17:00:00</td>\n",
       "      <td>2023-12-16 17:20:00</td>\n",
       "      <td>20</td>\n",
       "      <td>passou</td>\n",
       "      <td>27</td>\n",
       "    </tr>\n",
       "    <tr>\n",
       "      <th>9</th>\n",
       "      <td>657f2a9473c6a67bf10991ee</td>\n",
       "      <td>Estatísticas</td>\n",
       "      <td>10</td>\n",
       "      <td>2023-12-16 18:00:00</td>\n",
       "      <td>2023-12-16 18:30:00</td>\n",
       "      <td>30</td>\n",
       "      <td>passou</td>\n",
       "      <td>35</td>\n",
       "    </tr>\n",
       "  </tbody>\n",
       "</table>\n",
       "</div>"
      ],
      "text/plain": [
       "                        _id     nome_suite  id_suite  tempo_inicio_teste  \\\n",
       "0  657f2a9473c6a67bf10991e5          Login         1 2023-12-16 08:00:00   \n",
       "1  657f2a9473c6a67bf10991e6       Carrinho         2 2023-12-16 09:30:00   \n",
       "2  657f2a9473c6a67bf10991e7      Pagamento         3 2023-12-16 10:20:00   \n",
       "3  657f2a9473c6a67bf10991e8       Cadastro         4 2023-12-16 11:30:00   \n",
       "4  657f2a9473c6a67bf10991e9       Pesquisa         5 2023-12-16 13:00:00   \n",
       "5  657f2a9473c6a67bf10991ea  Configurações         6 2023-12-16 14:00:00   \n",
       "6  657f2a9473c6a67bf10991eb      Dashboard         7 2023-12-16 15:30:00   \n",
       "7  657f2a9473c6a67bf10991ec   Notificações         8 2023-12-16 16:00:00   \n",
       "8  657f2a9473c6a67bf10991ed         Perfil         9 2023-12-16 17:00:00   \n",
       "9  657f2a9473c6a67bf10991ee   Estatísticas        10 2023-12-16 18:00:00   \n",
       "\n",
       "      tempo_fim_teste  tempo_total_teste resultado_teste  \\\n",
       "0 2023-12-16 08:15:00                 15          passou   \n",
       "1 2023-12-16 09:45:00                 15          passou   \n",
       "2 2023-12-16 11:00:00                 40          falhou   \n",
       "3 2023-12-16 11:45:00                 15          passou   \n",
       "4 2023-12-16 13:25:00                 25          passou   \n",
       "5 2023-12-16 14:45:00                 45          falhou   \n",
       "6 2023-12-16 15:45:00                 15          passou   \n",
       "7 2023-12-16 16:30:00                 30          falhou   \n",
       "8 2023-12-16 17:20:00                 20          passou   \n",
       "9 2023-12-16 18:30:00                 30          passou   \n",
       "\n",
       "   num_testes_executados  \n",
       "0                     20  \n",
       "1                     15  \n",
       "2                     35  \n",
       "3                     25  \n",
       "4                     30  \n",
       "5                     40  \n",
       "6                     18  \n",
       "7                     22  \n",
       "8                     27  \n",
       "9                     35  "
      ]
     },
     "execution_count": 3,
     "metadata": {},
     "output_type": "execute_result"
    }
   ],
   "source": [
    "from MongoData import MongoData\n",
    "from variables import *\n",
    "from datetime import datetime\n",
    "\n",
    "start_date = datetime(2023,12,15)\n",
    "end_date = datetime(2023,12,17)\n",
    "\n",
    "Mongo = MongoData(uri)\n",
    "df = Mongo.filter_mongo(\"DatabaseData\",\"tableData\",start_date,end_date)\n",
    "\n",
    "df"
   ]
  },
  {
   "cell_type": "code",
   "execution_count": 4,
   "metadata": {},
   "outputs": [],
   "source": [
    "df_cru = df"
   ]
  },
  {
   "cell_type": "code",
   "execution_count": 5,
   "metadata": {},
   "outputs": [
    {
     "data": {
      "text/html": [
       "<div>\n",
       "<style scoped>\n",
       "    .dataframe tbody tr th:only-of-type {\n",
       "        vertical-align: middle;\n",
       "    }\n",
       "\n",
       "    .dataframe tbody tr th {\n",
       "        vertical-align: top;\n",
       "    }\n",
       "\n",
       "    .dataframe thead th {\n",
       "        text-align: right;\n",
       "    }\n",
       "</style>\n",
       "<table border=\"1\" class=\"dataframe\">\n",
       "  <thead>\n",
       "    <tr style=\"text-align: right;\">\n",
       "      <th></th>\n",
       "      <th>_id</th>\n",
       "      <th>nome_suite</th>\n",
       "      <th>id_suite</th>\n",
       "      <th>tempo_inicio_teste</th>\n",
       "      <th>tempo_fim_teste</th>\n",
       "      <th>tempo_total_teste</th>\n",
       "      <th>resultado_teste</th>\n",
       "      <th>num_testes_executados</th>\n",
       "    </tr>\n",
       "  </thead>\n",
       "  <tbody>\n",
       "    <tr>\n",
       "      <th>0</th>\n",
       "      <td>657f2a9473c6a67bf10991e5</td>\n",
       "      <td>Login</td>\n",
       "      <td>1</td>\n",
       "      <td>2023-12-16 08:00:00</td>\n",
       "      <td>2023-12-16 08:15:00</td>\n",
       "      <td>15</td>\n",
       "      <td>1</td>\n",
       "      <td>20</td>\n",
       "    </tr>\n",
       "    <tr>\n",
       "      <th>1</th>\n",
       "      <td>657f2a9473c6a67bf10991e6</td>\n",
       "      <td>Carrinho</td>\n",
       "      <td>2</td>\n",
       "      <td>2023-12-16 09:30:00</td>\n",
       "      <td>2023-12-16 09:45:00</td>\n",
       "      <td>15</td>\n",
       "      <td>1</td>\n",
       "      <td>15</td>\n",
       "    </tr>\n",
       "    <tr>\n",
       "      <th>2</th>\n",
       "      <td>657f2a9473c6a67bf10991e7</td>\n",
       "      <td>Pagamento</td>\n",
       "      <td>3</td>\n",
       "      <td>2023-12-16 10:20:00</td>\n",
       "      <td>2023-12-16 11:00:00</td>\n",
       "      <td>40</td>\n",
       "      <td>0</td>\n",
       "      <td>35</td>\n",
       "    </tr>\n",
       "    <tr>\n",
       "      <th>3</th>\n",
       "      <td>657f2a9473c6a67bf10991e8</td>\n",
       "      <td>Cadastro</td>\n",
       "      <td>4</td>\n",
       "      <td>2023-12-16 11:30:00</td>\n",
       "      <td>2023-12-16 11:45:00</td>\n",
       "      <td>15</td>\n",
       "      <td>1</td>\n",
       "      <td>25</td>\n",
       "    </tr>\n",
       "    <tr>\n",
       "      <th>4</th>\n",
       "      <td>657f2a9473c6a67bf10991e9</td>\n",
       "      <td>Pesquisa</td>\n",
       "      <td>5</td>\n",
       "      <td>2023-12-16 13:00:00</td>\n",
       "      <td>2023-12-16 13:25:00</td>\n",
       "      <td>25</td>\n",
       "      <td>1</td>\n",
       "      <td>30</td>\n",
       "    </tr>\n",
       "    <tr>\n",
       "      <th>5</th>\n",
       "      <td>657f2a9473c6a67bf10991ea</td>\n",
       "      <td>Configurações</td>\n",
       "      <td>6</td>\n",
       "      <td>2023-12-16 14:00:00</td>\n",
       "      <td>2023-12-16 14:45:00</td>\n",
       "      <td>45</td>\n",
       "      <td>0</td>\n",
       "      <td>40</td>\n",
       "    </tr>\n",
       "    <tr>\n",
       "      <th>6</th>\n",
       "      <td>657f2a9473c6a67bf10991eb</td>\n",
       "      <td>Dashboard</td>\n",
       "      <td>7</td>\n",
       "      <td>2023-12-16 15:30:00</td>\n",
       "      <td>2023-12-16 15:45:00</td>\n",
       "      <td>15</td>\n",
       "      <td>1</td>\n",
       "      <td>18</td>\n",
       "    </tr>\n",
       "    <tr>\n",
       "      <th>7</th>\n",
       "      <td>657f2a9473c6a67bf10991ec</td>\n",
       "      <td>Notificações</td>\n",
       "      <td>8</td>\n",
       "      <td>2023-12-16 16:00:00</td>\n",
       "      <td>2023-12-16 16:30:00</td>\n",
       "      <td>30</td>\n",
       "      <td>0</td>\n",
       "      <td>22</td>\n",
       "    </tr>\n",
       "    <tr>\n",
       "      <th>8</th>\n",
       "      <td>657f2a9473c6a67bf10991ed</td>\n",
       "      <td>Perfil</td>\n",
       "      <td>9</td>\n",
       "      <td>2023-12-16 17:00:00</td>\n",
       "      <td>2023-12-16 17:20:00</td>\n",
       "      <td>20</td>\n",
       "      <td>1</td>\n",
       "      <td>27</td>\n",
       "    </tr>\n",
       "    <tr>\n",
       "      <th>9</th>\n",
       "      <td>657f2a9473c6a67bf10991ee</td>\n",
       "      <td>Estatísticas</td>\n",
       "      <td>10</td>\n",
       "      <td>2023-12-16 18:00:00</td>\n",
       "      <td>2023-12-16 18:30:00</td>\n",
       "      <td>30</td>\n",
       "      <td>1</td>\n",
       "      <td>35</td>\n",
       "    </tr>\n",
       "  </tbody>\n",
       "</table>\n",
       "</div>"
      ],
      "text/plain": [
       "                        _id     nome_suite  id_suite  tempo_inicio_teste  \\\n",
       "0  657f2a9473c6a67bf10991e5          Login         1 2023-12-16 08:00:00   \n",
       "1  657f2a9473c6a67bf10991e6       Carrinho         2 2023-12-16 09:30:00   \n",
       "2  657f2a9473c6a67bf10991e7      Pagamento         3 2023-12-16 10:20:00   \n",
       "3  657f2a9473c6a67bf10991e8       Cadastro         4 2023-12-16 11:30:00   \n",
       "4  657f2a9473c6a67bf10991e9       Pesquisa         5 2023-12-16 13:00:00   \n",
       "5  657f2a9473c6a67bf10991ea  Configurações         6 2023-12-16 14:00:00   \n",
       "6  657f2a9473c6a67bf10991eb      Dashboard         7 2023-12-16 15:30:00   \n",
       "7  657f2a9473c6a67bf10991ec   Notificações         8 2023-12-16 16:00:00   \n",
       "8  657f2a9473c6a67bf10991ed         Perfil         9 2023-12-16 17:00:00   \n",
       "9  657f2a9473c6a67bf10991ee   Estatísticas        10 2023-12-16 18:00:00   \n",
       "\n",
       "      tempo_fim_teste  tempo_total_teste resultado_teste  \\\n",
       "0 2023-12-16 08:15:00                 15               1   \n",
       "1 2023-12-16 09:45:00                 15               1   \n",
       "2 2023-12-16 11:00:00                 40               0   \n",
       "3 2023-12-16 11:45:00                 15               1   \n",
       "4 2023-12-16 13:25:00                 25               1   \n",
       "5 2023-12-16 14:45:00                 45               0   \n",
       "6 2023-12-16 15:45:00                 15               1   \n",
       "7 2023-12-16 16:30:00                 30               0   \n",
       "8 2023-12-16 17:20:00                 20               1   \n",
       "9 2023-12-16 18:30:00                 30               1   \n",
       "\n",
       "   num_testes_executados  \n",
       "0                     20  \n",
       "1                     15  \n",
       "2                     35  \n",
       "3                     25  \n",
       "4                     30  \n",
       "5                     40  \n",
       "6                     18  \n",
       "7                     22  \n",
       "8                     27  \n",
       "9                     35  "
      ]
     },
     "execution_count": 5,
     "metadata": {},
     "output_type": "execute_result"
    }
   ],
   "source": [
    "df.loc[df['resultado_teste'] == 'passou', 'resultado_teste'] = 1\n",
    "df.loc[df['resultado_teste'] == 'falhou', 'resultado_teste'] = 0\n",
    "\n",
    "df"
   ]
  },
  {
   "cell_type": "code",
   "execution_count": 10,
   "metadata": {},
   "outputs": [
    {
     "data": {
      "text/html": [
       "<div>\n",
       "<style scoped>\n",
       "    .dataframe tbody tr th:only-of-type {\n",
       "        vertical-align: middle;\n",
       "    }\n",
       "\n",
       "    .dataframe tbody tr th {\n",
       "        vertical-align: top;\n",
       "    }\n",
       "\n",
       "    .dataframe thead th {\n",
       "        text-align: right;\n",
       "    }\n",
       "</style>\n",
       "<table border=\"1\" class=\"dataframe\">\n",
       "  <thead>\n",
       "    <tr style=\"text-align: right;\">\n",
       "      <th></th>\n",
       "      <th>nome_suite</th>\n",
       "      <th>id_suite</th>\n",
       "      <th>tempo_inicio_teste</th>\n",
       "      <th>tempo_fim_teste</th>\n",
       "      <th>tempo_total_teste</th>\n",
       "      <th>resultado_teste</th>\n",
       "      <th>num_testes_executados</th>\n",
       "    </tr>\n",
       "  </thead>\n",
       "  <tbody>\n",
       "    <tr>\n",
       "      <th>0</th>\n",
       "      <td>Login</td>\n",
       "      <td>1</td>\n",
       "      <td>2023-12-16 08:00:00</td>\n",
       "      <td>2023-12-16 08:15:00</td>\n",
       "      <td>15</td>\n",
       "      <td>1</td>\n",
       "      <td>20</td>\n",
       "    </tr>\n",
       "    <tr>\n",
       "      <th>1</th>\n",
       "      <td>Carrinho</td>\n",
       "      <td>2</td>\n",
       "      <td>2023-12-16 09:30:00</td>\n",
       "      <td>2023-12-16 09:45:00</td>\n",
       "      <td>15</td>\n",
       "      <td>1</td>\n",
       "      <td>15</td>\n",
       "    </tr>\n",
       "    <tr>\n",
       "      <th>2</th>\n",
       "      <td>Pagamento</td>\n",
       "      <td>3</td>\n",
       "      <td>2023-12-16 10:20:00</td>\n",
       "      <td>2023-12-16 11:00:00</td>\n",
       "      <td>40</td>\n",
       "      <td>0</td>\n",
       "      <td>35</td>\n",
       "    </tr>\n",
       "    <tr>\n",
       "      <th>3</th>\n",
       "      <td>Cadastro</td>\n",
       "      <td>4</td>\n",
       "      <td>2023-12-16 11:30:00</td>\n",
       "      <td>2023-12-16 11:45:00</td>\n",
       "      <td>15</td>\n",
       "      <td>1</td>\n",
       "      <td>25</td>\n",
       "    </tr>\n",
       "    <tr>\n",
       "      <th>4</th>\n",
       "      <td>Pesquisa</td>\n",
       "      <td>5</td>\n",
       "      <td>2023-12-16 13:00:00</td>\n",
       "      <td>2023-12-16 13:25:00</td>\n",
       "      <td>25</td>\n",
       "      <td>1</td>\n",
       "      <td>30</td>\n",
       "    </tr>\n",
       "    <tr>\n",
       "      <th>5</th>\n",
       "      <td>Configurações</td>\n",
       "      <td>6</td>\n",
       "      <td>2023-12-16 14:00:00</td>\n",
       "      <td>2023-12-16 14:45:00</td>\n",
       "      <td>45</td>\n",
       "      <td>0</td>\n",
       "      <td>40</td>\n",
       "    </tr>\n",
       "    <tr>\n",
       "      <th>6</th>\n",
       "      <td>Dashboard</td>\n",
       "      <td>7</td>\n",
       "      <td>2023-12-16 15:30:00</td>\n",
       "      <td>2023-12-16 15:45:00</td>\n",
       "      <td>15</td>\n",
       "      <td>1</td>\n",
       "      <td>18</td>\n",
       "    </tr>\n",
       "    <tr>\n",
       "      <th>7</th>\n",
       "      <td>Notificações</td>\n",
       "      <td>8</td>\n",
       "      <td>2023-12-16 16:00:00</td>\n",
       "      <td>2023-12-16 16:30:00</td>\n",
       "      <td>30</td>\n",
       "      <td>0</td>\n",
       "      <td>22</td>\n",
       "    </tr>\n",
       "    <tr>\n",
       "      <th>8</th>\n",
       "      <td>Perfil</td>\n",
       "      <td>9</td>\n",
       "      <td>2023-12-16 17:00:00</td>\n",
       "      <td>2023-12-16 17:20:00</td>\n",
       "      <td>20</td>\n",
       "      <td>1</td>\n",
       "      <td>27</td>\n",
       "    </tr>\n",
       "    <tr>\n",
       "      <th>9</th>\n",
       "      <td>Estatísticas</td>\n",
       "      <td>10</td>\n",
       "      <td>2023-12-16 18:00:00</td>\n",
       "      <td>2023-12-16 18:30:00</td>\n",
       "      <td>30</td>\n",
       "      <td>1</td>\n",
       "      <td>35</td>\n",
       "    </tr>\n",
       "  </tbody>\n",
       "</table>\n",
       "</div>"
      ],
      "text/plain": [
       "      nome_suite  id_suite  tempo_inicio_teste     tempo_fim_teste  \\\n",
       "0          Login         1 2023-12-16 08:00:00 2023-12-16 08:15:00   \n",
       "1       Carrinho         2 2023-12-16 09:30:00 2023-12-16 09:45:00   \n",
       "2      Pagamento         3 2023-12-16 10:20:00 2023-12-16 11:00:00   \n",
       "3       Cadastro         4 2023-12-16 11:30:00 2023-12-16 11:45:00   \n",
       "4       Pesquisa         5 2023-12-16 13:00:00 2023-12-16 13:25:00   \n",
       "5  Configurações         6 2023-12-16 14:00:00 2023-12-16 14:45:00   \n",
       "6      Dashboard         7 2023-12-16 15:30:00 2023-12-16 15:45:00   \n",
       "7   Notificações         8 2023-12-16 16:00:00 2023-12-16 16:30:00   \n",
       "8         Perfil         9 2023-12-16 17:00:00 2023-12-16 17:20:00   \n",
       "9   Estatísticas        10 2023-12-16 18:00:00 2023-12-16 18:30:00   \n",
       "\n",
       "   tempo_total_teste resultado_teste  num_testes_executados  \n",
       "0                 15               1                     20  \n",
       "1                 15               1                     15  \n",
       "2                 40               0                     35  \n",
       "3                 15               1                     25  \n",
       "4                 25               1                     30  \n",
       "5                 45               0                     40  \n",
       "6                 15               1                     18  \n",
       "7                 30               0                     22  \n",
       "8                 20               1                     27  \n",
       "9                 30               1                     35  "
      ]
     },
     "execution_count": 10,
     "metadata": {},
     "output_type": "execute_result"
    }
   ],
   "source": [
    "df = df.drop('_id',axis=1)\n",
    "df"
   ]
  },
  {
   "cell_type": "markdown",
   "metadata": {},
   "source": [
    "suites sucesso x falha"
   ]
  },
  {
   "cell_type": "code",
   "execution_count": 16,
   "metadata": {},
   "outputs": [
    {
     "data": {
      "text/html": [
       "<div>\n",
       "<style scoped>\n",
       "    .dataframe tbody tr th:only-of-type {\n",
       "        vertical-align: middle;\n",
       "    }\n",
       "\n",
       "    .dataframe tbody tr th {\n",
       "        vertical-align: top;\n",
       "    }\n",
       "\n",
       "    .dataframe thead th {\n",
       "        text-align: right;\n",
       "    }\n",
       "</style>\n",
       "<table border=\"1\" class=\"dataframe\">\n",
       "  <thead>\n",
       "    <tr style=\"text-align: right;\">\n",
       "      <th></th>\n",
       "      <th>resultado_teste</th>\n",
       "      <th>contagem</th>\n",
       "    </tr>\n",
       "  </thead>\n",
       "  <tbody>\n",
       "    <tr>\n",
       "      <th>0</th>\n",
       "      <td>0</td>\n",
       "      <td>3</td>\n",
       "    </tr>\n",
       "    <tr>\n",
       "      <th>1</th>\n",
       "      <td>1</td>\n",
       "      <td>7</td>\n",
       "    </tr>\n",
       "  </tbody>\n",
       "</table>\n",
       "</div>"
      ],
      "text/plain": [
       "   resultado_teste  contagem\n",
       "0                0         3\n",
       "1                1         7"
      ]
     },
     "execution_count": 16,
     "metadata": {},
     "output_type": "execute_result"
    }
   ],
   "source": [
    "#contagem do numero de suites que passaram (1) e falharam (0)\n",
    "df1 = df.groupby('resultado_teste')['id_suite'].count().reset_index()\n",
    "df1.rename(columns={'id_suite': 'contagem'}, inplace=True)\n",
    "df1"
   ]
  },
  {
   "cell_type": "code",
   "execution_count": 20,
   "metadata": {},
   "outputs": [
    {
     "data": {
      "application/vnd.plotly.v1+json": {
       "config": {
        "plotlyServerURL": "https://plot.ly"
       },
       "data": [
        {
         "hole": 0.6,
         "labels": [
          "Falhou",
          "Passou"
         ],
         "type": "pie",
         "values": [
          3,
          7
         ]
        }
       ],
       "layout": {
        "template": {
         "data": {
          "bar": [
           {
            "error_x": {
             "color": "#2a3f5f"
            },
            "error_y": {
             "color": "#2a3f5f"
            },
            "marker": {
             "line": {
              "color": "#E5ECF6",
              "width": 0.5
             },
             "pattern": {
              "fillmode": "overlay",
              "size": 10,
              "solidity": 0.2
             }
            },
            "type": "bar"
           }
          ],
          "barpolar": [
           {
            "marker": {
             "line": {
              "color": "#E5ECF6",
              "width": 0.5
             },
             "pattern": {
              "fillmode": "overlay",
              "size": 10,
              "solidity": 0.2
             }
            },
            "type": "barpolar"
           }
          ],
          "carpet": [
           {
            "aaxis": {
             "endlinecolor": "#2a3f5f",
             "gridcolor": "white",
             "linecolor": "white",
             "minorgridcolor": "white",
             "startlinecolor": "#2a3f5f"
            },
            "baxis": {
             "endlinecolor": "#2a3f5f",
             "gridcolor": "white",
             "linecolor": "white",
             "minorgridcolor": "white",
             "startlinecolor": "#2a3f5f"
            },
            "type": "carpet"
           }
          ],
          "choropleth": [
           {
            "colorbar": {
             "outlinewidth": 0,
             "ticks": ""
            },
            "type": "choropleth"
           }
          ],
          "contour": [
           {
            "colorbar": {
             "outlinewidth": 0,
             "ticks": ""
            },
            "colorscale": [
             [
              0,
              "#0d0887"
             ],
             [
              0.1111111111111111,
              "#46039f"
             ],
             [
              0.2222222222222222,
              "#7201a8"
             ],
             [
              0.3333333333333333,
              "#9c179e"
             ],
             [
              0.4444444444444444,
              "#bd3786"
             ],
             [
              0.5555555555555556,
              "#d8576b"
             ],
             [
              0.6666666666666666,
              "#ed7953"
             ],
             [
              0.7777777777777778,
              "#fb9f3a"
             ],
             [
              0.8888888888888888,
              "#fdca26"
             ],
             [
              1,
              "#f0f921"
             ]
            ],
            "type": "contour"
           }
          ],
          "contourcarpet": [
           {
            "colorbar": {
             "outlinewidth": 0,
             "ticks": ""
            },
            "type": "contourcarpet"
           }
          ],
          "heatmap": [
           {
            "colorbar": {
             "outlinewidth": 0,
             "ticks": ""
            },
            "colorscale": [
             [
              0,
              "#0d0887"
             ],
             [
              0.1111111111111111,
              "#46039f"
             ],
             [
              0.2222222222222222,
              "#7201a8"
             ],
             [
              0.3333333333333333,
              "#9c179e"
             ],
             [
              0.4444444444444444,
              "#bd3786"
             ],
             [
              0.5555555555555556,
              "#d8576b"
             ],
             [
              0.6666666666666666,
              "#ed7953"
             ],
             [
              0.7777777777777778,
              "#fb9f3a"
             ],
             [
              0.8888888888888888,
              "#fdca26"
             ],
             [
              1,
              "#f0f921"
             ]
            ],
            "type": "heatmap"
           }
          ],
          "heatmapgl": [
           {
            "colorbar": {
             "outlinewidth": 0,
             "ticks": ""
            },
            "colorscale": [
             [
              0,
              "#0d0887"
             ],
             [
              0.1111111111111111,
              "#46039f"
             ],
             [
              0.2222222222222222,
              "#7201a8"
             ],
             [
              0.3333333333333333,
              "#9c179e"
             ],
             [
              0.4444444444444444,
              "#bd3786"
             ],
             [
              0.5555555555555556,
              "#d8576b"
             ],
             [
              0.6666666666666666,
              "#ed7953"
             ],
             [
              0.7777777777777778,
              "#fb9f3a"
             ],
             [
              0.8888888888888888,
              "#fdca26"
             ],
             [
              1,
              "#f0f921"
             ]
            ],
            "type": "heatmapgl"
           }
          ],
          "histogram": [
           {
            "marker": {
             "pattern": {
              "fillmode": "overlay",
              "size": 10,
              "solidity": 0.2
             }
            },
            "type": "histogram"
           }
          ],
          "histogram2d": [
           {
            "colorbar": {
             "outlinewidth": 0,
             "ticks": ""
            },
            "colorscale": [
             [
              0,
              "#0d0887"
             ],
             [
              0.1111111111111111,
              "#46039f"
             ],
             [
              0.2222222222222222,
              "#7201a8"
             ],
             [
              0.3333333333333333,
              "#9c179e"
             ],
             [
              0.4444444444444444,
              "#bd3786"
             ],
             [
              0.5555555555555556,
              "#d8576b"
             ],
             [
              0.6666666666666666,
              "#ed7953"
             ],
             [
              0.7777777777777778,
              "#fb9f3a"
             ],
             [
              0.8888888888888888,
              "#fdca26"
             ],
             [
              1,
              "#f0f921"
             ]
            ],
            "type": "histogram2d"
           }
          ],
          "histogram2dcontour": [
           {
            "colorbar": {
             "outlinewidth": 0,
             "ticks": ""
            },
            "colorscale": [
             [
              0,
              "#0d0887"
             ],
             [
              0.1111111111111111,
              "#46039f"
             ],
             [
              0.2222222222222222,
              "#7201a8"
             ],
             [
              0.3333333333333333,
              "#9c179e"
             ],
             [
              0.4444444444444444,
              "#bd3786"
             ],
             [
              0.5555555555555556,
              "#d8576b"
             ],
             [
              0.6666666666666666,
              "#ed7953"
             ],
             [
              0.7777777777777778,
              "#fb9f3a"
             ],
             [
              0.8888888888888888,
              "#fdca26"
             ],
             [
              1,
              "#f0f921"
             ]
            ],
            "type": "histogram2dcontour"
           }
          ],
          "mesh3d": [
           {
            "colorbar": {
             "outlinewidth": 0,
             "ticks": ""
            },
            "type": "mesh3d"
           }
          ],
          "parcoords": [
           {
            "line": {
             "colorbar": {
              "outlinewidth": 0,
              "ticks": ""
             }
            },
            "type": "parcoords"
           }
          ],
          "pie": [
           {
            "automargin": true,
            "type": "pie"
           }
          ],
          "scatter": [
           {
            "fillpattern": {
             "fillmode": "overlay",
             "size": 10,
             "solidity": 0.2
            },
            "type": "scatter"
           }
          ],
          "scatter3d": [
           {
            "line": {
             "colorbar": {
              "outlinewidth": 0,
              "ticks": ""
             }
            },
            "marker": {
             "colorbar": {
              "outlinewidth": 0,
              "ticks": ""
             }
            },
            "type": "scatter3d"
           }
          ],
          "scattercarpet": [
           {
            "marker": {
             "colorbar": {
              "outlinewidth": 0,
              "ticks": ""
             }
            },
            "type": "scattercarpet"
           }
          ],
          "scattergeo": [
           {
            "marker": {
             "colorbar": {
              "outlinewidth": 0,
              "ticks": ""
             }
            },
            "type": "scattergeo"
           }
          ],
          "scattergl": [
           {
            "marker": {
             "colorbar": {
              "outlinewidth": 0,
              "ticks": ""
             }
            },
            "type": "scattergl"
           }
          ],
          "scattermapbox": [
           {
            "marker": {
             "colorbar": {
              "outlinewidth": 0,
              "ticks": ""
             }
            },
            "type": "scattermapbox"
           }
          ],
          "scatterpolar": [
           {
            "marker": {
             "colorbar": {
              "outlinewidth": 0,
              "ticks": ""
             }
            },
            "type": "scatterpolar"
           }
          ],
          "scatterpolargl": [
           {
            "marker": {
             "colorbar": {
              "outlinewidth": 0,
              "ticks": ""
             }
            },
            "type": "scatterpolargl"
           }
          ],
          "scatterternary": [
           {
            "marker": {
             "colorbar": {
              "outlinewidth": 0,
              "ticks": ""
             }
            },
            "type": "scatterternary"
           }
          ],
          "surface": [
           {
            "colorbar": {
             "outlinewidth": 0,
             "ticks": ""
            },
            "colorscale": [
             [
              0,
              "#0d0887"
             ],
             [
              0.1111111111111111,
              "#46039f"
             ],
             [
              0.2222222222222222,
              "#7201a8"
             ],
             [
              0.3333333333333333,
              "#9c179e"
             ],
             [
              0.4444444444444444,
              "#bd3786"
             ],
             [
              0.5555555555555556,
              "#d8576b"
             ],
             [
              0.6666666666666666,
              "#ed7953"
             ],
             [
              0.7777777777777778,
              "#fb9f3a"
             ],
             [
              0.8888888888888888,
              "#fdca26"
             ],
             [
              1,
              "#f0f921"
             ]
            ],
            "type": "surface"
           }
          ],
          "table": [
           {
            "cells": {
             "fill": {
              "color": "#EBF0F8"
             },
             "line": {
              "color": "white"
             }
            },
            "header": {
             "fill": {
              "color": "#C8D4E3"
             },
             "line": {
              "color": "white"
             }
            },
            "type": "table"
           }
          ]
         },
         "layout": {
          "annotationdefaults": {
           "arrowcolor": "#2a3f5f",
           "arrowhead": 0,
           "arrowwidth": 1
          },
          "autotypenumbers": "strict",
          "coloraxis": {
           "colorbar": {
            "outlinewidth": 0,
            "ticks": ""
           }
          },
          "colorscale": {
           "diverging": [
            [
             0,
             "#8e0152"
            ],
            [
             0.1,
             "#c51b7d"
            ],
            [
             0.2,
             "#de77ae"
            ],
            [
             0.3,
             "#f1b6da"
            ],
            [
             0.4,
             "#fde0ef"
            ],
            [
             0.5,
             "#f7f7f7"
            ],
            [
             0.6,
             "#e6f5d0"
            ],
            [
             0.7,
             "#b8e186"
            ],
            [
             0.8,
             "#7fbc41"
            ],
            [
             0.9,
             "#4d9221"
            ],
            [
             1,
             "#276419"
            ]
           ],
           "sequential": [
            [
             0,
             "#0d0887"
            ],
            [
             0.1111111111111111,
             "#46039f"
            ],
            [
             0.2222222222222222,
             "#7201a8"
            ],
            [
             0.3333333333333333,
             "#9c179e"
            ],
            [
             0.4444444444444444,
             "#bd3786"
            ],
            [
             0.5555555555555556,
             "#d8576b"
            ],
            [
             0.6666666666666666,
             "#ed7953"
            ],
            [
             0.7777777777777778,
             "#fb9f3a"
            ],
            [
             0.8888888888888888,
             "#fdca26"
            ],
            [
             1,
             "#f0f921"
            ]
           ],
           "sequentialminus": [
            [
             0,
             "#0d0887"
            ],
            [
             0.1111111111111111,
             "#46039f"
            ],
            [
             0.2222222222222222,
             "#7201a8"
            ],
            [
             0.3333333333333333,
             "#9c179e"
            ],
            [
             0.4444444444444444,
             "#bd3786"
            ],
            [
             0.5555555555555556,
             "#d8576b"
            ],
            [
             0.6666666666666666,
             "#ed7953"
            ],
            [
             0.7777777777777778,
             "#fb9f3a"
            ],
            [
             0.8888888888888888,
             "#fdca26"
            ],
            [
             1,
             "#f0f921"
            ]
           ]
          },
          "colorway": [
           "#636efa",
           "#EF553B",
           "#00cc96",
           "#ab63fa",
           "#FFA15A",
           "#19d3f3",
           "#FF6692",
           "#B6E880",
           "#FF97FF",
           "#FECB52"
          ],
          "font": {
           "color": "#2a3f5f"
          },
          "geo": {
           "bgcolor": "white",
           "lakecolor": "white",
           "landcolor": "#E5ECF6",
           "showlakes": true,
           "showland": true,
           "subunitcolor": "white"
          },
          "hoverlabel": {
           "align": "left"
          },
          "hovermode": "closest",
          "mapbox": {
           "style": "light"
          },
          "paper_bgcolor": "white",
          "plot_bgcolor": "#E5ECF6",
          "polar": {
           "angularaxis": {
            "gridcolor": "white",
            "linecolor": "white",
            "ticks": ""
           },
           "bgcolor": "#E5ECF6",
           "radialaxis": {
            "gridcolor": "white",
            "linecolor": "white",
            "ticks": ""
           }
          },
          "scene": {
           "xaxis": {
            "backgroundcolor": "#E5ECF6",
            "gridcolor": "white",
            "gridwidth": 2,
            "linecolor": "white",
            "showbackground": true,
            "ticks": "",
            "zerolinecolor": "white"
           },
           "yaxis": {
            "backgroundcolor": "#E5ECF6",
            "gridcolor": "white",
            "gridwidth": 2,
            "linecolor": "white",
            "showbackground": true,
            "ticks": "",
            "zerolinecolor": "white"
           },
           "zaxis": {
            "backgroundcolor": "#E5ECF6",
            "gridcolor": "white",
            "gridwidth": 2,
            "linecolor": "white",
            "showbackground": true,
            "ticks": "",
            "zerolinecolor": "white"
           }
          },
          "shapedefaults": {
           "line": {
            "color": "#2a3f5f"
           }
          },
          "ternary": {
           "aaxis": {
            "gridcolor": "white",
            "linecolor": "white",
            "ticks": ""
           },
           "baxis": {
            "gridcolor": "white",
            "linecolor": "white",
            "ticks": ""
           },
           "bgcolor": "#E5ECF6",
           "caxis": {
            "gridcolor": "white",
            "linecolor": "white",
            "ticks": ""
           }
          },
          "title": {
           "x": 0.05
          },
          "xaxis": {
           "automargin": true,
           "gridcolor": "white",
           "linecolor": "white",
           "ticks": "",
           "title": {
            "standoff": 15
           },
           "zerolinecolor": "white",
           "zerolinewidth": 2
          },
          "yaxis": {
           "automargin": true,
           "gridcolor": "white",
           "linecolor": "white",
           "ticks": "",
           "title": {
            "standoff": 15
           },
           "zerolinecolor": "white",
           "zerolinewidth": 2
          }
         }
        }
       }
      }
     },
     "metadata": {},
     "output_type": "display_data"
    }
   ],
   "source": [
    "\n",
    "import plotly.graph_objects as go\n",
    "import plotly.express as px\n",
    "\n",
    "#criar grafico vazio\n",
    "fig1 = go.Figure()\n",
    "\n",
    "fig1.add_trace(go.Pie(labels=['Falhou', 'Passou'], values=df1['contagem'], hole=.6))\n",
    "\n",
    "fig1.show()\n"
   ]
  },
  {
   "cell_type": "code",
   "execution_count": null,
   "metadata": {},
   "outputs": [],
   "source": []
  }
 ],
 "metadata": {
  "kernelspec": {
   "display_name": "venv",
   "language": "python",
   "name": "python3"
  },
  "language_info": {
   "codemirror_mode": {
    "name": "ipython",
    "version": 3
   },
   "file_extension": ".py",
   "mimetype": "text/x-python",
   "name": "python",
   "nbconvert_exporter": "python",
   "pygments_lexer": "ipython3",
   "version": "3.11.4"
  }
 },
 "nbformat": 4,
 "nbformat_minor": 2
}
